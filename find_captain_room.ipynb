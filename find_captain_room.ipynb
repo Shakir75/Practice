{
  "nbformat": 4,
  "nbformat_minor": 0,
  "metadata": {
    "colab": {
      "provenance": [],
      "authorship_tag": "ABX9TyNSDkE0jlYeOYgq5Tc9ZozO",
      "include_colab_link": true
    },
    "kernelspec": {
      "name": "python3",
      "display_name": "Python 3"
    },
    "language_info": {
      "name": "python"
    }
  },
  "cells": [
    {
      "cell_type": "markdown",
      "metadata": {
        "id": "view-in-github",
        "colab_type": "text"
      },
      "source": [
        "<a href=\"https://colab.research.google.com/github/Shakir75/Practice/blob/main/find_captain_room.ipynb\" target=\"_parent\"><img src=\"https://colab.research.google.com/assets/colab-badge.svg\" alt=\"Open In Colab\"/></a>"
      ]
    },
    {
      "cell_type": "code",
      "execution_count": null,
      "metadata": {
        "id": "kBgMcuOSoINw"
      },
      "outputs": [],
      "source": [
        "k = int(input())\n",
        "rooms = list(map(int, input().split()))\n",
        "actual_rooms = list(set(rooms))*k\n",
        "difference = sum(actual_rooms)-sum(rooms)\n",
        "print(int(difference/(k-1)))"
      ]
    }
  ]
}
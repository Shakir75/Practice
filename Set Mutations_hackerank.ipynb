{
  "nbformat": 4,
  "nbformat_minor": 0,
  "metadata": {
    "colab": {
      "provenance": [],
      "authorship_tag": "ABX9TyM90Qos0/S1su7yM3LVB8uI",
      "include_colab_link": true
    },
    "kernelspec": {
      "name": "python3",
      "display_name": "Python 3"
    },
    "language_info": {
      "name": "python"
    }
  },
  "cells": [
    {
      "cell_type": "markdown",
      "metadata": {
        "id": "view-in-github",
        "colab_type": "text"
      },
      "source": [
        "<a href=\"https://colab.research.google.com/github/Shakir75/Practice/blob/main/Set%20Mutations_hackerank.ipynb\" target=\"_parent\"><img src=\"https://colab.research.google.com/assets/colab-badge.svg\" alt=\"Open In Colab\"/></a>"
      ]
    },
    {
      "cell_type": "code",
      "execution_count": null,
      "metadata": {
        "id": "kBgMcuOSoINw"
      },
      "outputs": [],
      "source": [
        "len_set = int(input())\n",
        "\n",
        "storage = set(map(int, input().split()))\n",
        "\n",
        "op_len = int(input())\n",
        "\n",
        "for i in range(op_len):\n",
        "   operation = input().split()\n",
        "   if operation[0] == 'intersection_update':\n",
        "       temp_storage = set(map(int, input().split()))\n",
        "       storage.intersection_update(temp_storage)\n",
        "   elif operation[0] == 'update':\n",
        "       temp_storage = set(map(int, input().split()))\n",
        "       storage.update(temp_storage)\n",
        "   elif operation[0] == 'symmetric_difference_update':\n",
        "       temp_storage = set(map(int, input().split()))\n",
        "       storage.symmetric_difference_update(temp_storage)\n",
        "   elif operation[0] == 'difference_update':\n",
        "       temp_storage = set(map(int, input().split()))\n",
        "       storage.difference_update(temp_storage)\n",
        "   else:\n",
        "      assert False\n",
        "\n",
        "print(sum(storage))"
      ]
    }
  ]
}
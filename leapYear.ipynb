{
  "nbformat": 4,
  "nbformat_minor": 0,
  "metadata": {
    "colab": {
      "provenance": [],
      "authorship_tag": "ABX9TyPP5TLm+M/cbr+44LGt/axq",
      "include_colab_link": true
    },
    "kernelspec": {
      "name": "python3",
      "display_name": "Python 3"
    },
    "language_info": {
      "name": "python"
    }
  },
  "cells": [
    {
      "cell_type": "markdown",
      "metadata": {
        "id": "view-in-github",
        "colab_type": "text"
      },
      "source": [
        "<a href=\"https://colab.research.google.com/github/Shakir75/Practice/blob/main/leapYear.ipynb\" target=\"_parent\"><img src=\"https://colab.research.google.com/assets/colab-badge.svg\" alt=\"Open In Colab\"/></a>"
      ]
    },
    {
      "cell_type": "code",
      "execution_count": null,
      "metadata": {
        "colab": {
          "base_uri": "https://localhost:8080/"
        },
        "id": "iIBxXMvctCnM",
        "outputId": "363eb864-0802-4fcd-e9dc-dc31195d0dbb"
      },
      "outputs": [
        {
          "output_type": "stream",
          "name": "stdout",
          "text": [
            "2024\n",
            "True\n"
          ]
        }
      ],
      "source": [
        "def is_leap(year):\n",
        "    leap = False\n",
        "\n",
        "    if (year % 4 == 0) and (year % 100 != 0) or (year %400 == 0):\n",
        "        leap = True\n",
        "\n",
        "    return leap\n",
        "\n",
        "\n",
        "year = int(input())\n",
        "print(is_leap(year))"
      ]
    }
  ]
}
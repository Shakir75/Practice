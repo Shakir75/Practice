{
  "nbformat": 4,
  "nbformat_minor": 0,
  "metadata": {
    "colab": {
      "provenance": [],
      "authorship_tag": "ABX9TyNg4Ech6Hy0Cv0oZ9w5/C8L",
      "include_colab_link": true
    },
    "kernelspec": {
      "name": "python3",
      "display_name": "Python 3"
    },
    "language_info": {
      "name": "python"
    }
  },
  "cells": [
    {
      "cell_type": "markdown",
      "metadata": {
        "id": "view-in-github",
        "colab_type": "text"
      },
      "source": [
        "<a href=\"https://colab.research.google.com/github/Shakir75/Practice/blob/main/The_Minion_Game.ipynb\" target=\"_parent\"><img src=\"https://colab.research.google.com/assets/colab-badge.svg\" alt=\"Open In Colab\"/></a>"
      ]
    },
    {
      "cell_type": "code",
      "execution_count": 3,
      "metadata": {
        "id": "O_x-idjNptRM",
        "colab": {
          "base_uri": "https://localhost:8080/"
        },
        "outputId": "2efbe89e-32aa-406d-fc40-cdd48b2ea32c"
      },
      "outputs": [
        {
          "output_type": "stream",
          "name": "stdout",
          "text": [
            "BANANANAAAS\n",
            "draw\n"
          ]
        }
      ],
      "source": [
        "def minion_game(string):\n",
        "    s = len (string)\n",
        "    con, vow = 0, 0\n",
        "    \n",
        "    for i in range (s):\n",
        "        if string[i] in 'AEIOU':\n",
        "           vow = vow + (s-i)\n",
        "        else:\n",
        "            con = con + (s- i)\n",
        "            \n",
        "    if con > vow:\n",
        "        print (f'Rafi {con}')\n",
        "    elif con == vow:\n",
        "         print ('Draw')\n",
        "    else:\n",
        "        print(f'Shakir {vow} ') \n",
        "\n",
        "if __name__ == '__main__':\n",
        "    s = input()\n",
        "    minion_game(s)"
      ]
    },
    {
      "cell_type": "code",
      "source": [
        "    BANANANAAAS"
      ],
      "metadata": {
        "id": "N1IV526GEHXK"
      },
      "execution_count": null,
      "outputs": []
    },
    {
      "cell_type": "code",
      "source": [
        "BANAASA"
      ],
      "metadata": {
        "id": "Y6k9VvYfETa1"
      },
      "execution_count": null,
      "outputs": []
    },
    {
      "cell_type": "code",
      "source": [
        "R, C = map(int, input().split(\" \"))\n",
        "print(R, C)\n",
        "\n",
        "for i in range(R - 2, -1, -2):\n",
        "    print((\".|.\" * i).center(C, \"-\"))"
      ],
      "metadata": {
        "colab": {
          "base_uri": "https://localhost:8080/"
        },
        "id": "jhFzfnb54Xe0",
        "outputId": "e87ff439-c0b6-4294-f55d-8e85afb00903"
      },
      "execution_count": null,
      "outputs": [
        {
          "output_type": "stream",
          "name": "stdout",
          "text": [
            "9 27\n",
            "9 27\n",
            "---.|..|..|..|..|..|..|.---\n",
            "------.|..|..|..|..|.------\n",
            "---------.|..|..|.---------\n",
            "------------.|.------------\n"
          ]
        }
      ]
    }
  ]
}
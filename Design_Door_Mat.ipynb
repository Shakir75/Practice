{
  "nbformat": 4,
  "nbformat_minor": 0,
  "metadata": {
    "colab": {
      "provenance": [],
      "authorship_tag": "ABX9TyPxuZc1cfmNpIcJnqvkkup0",
      "include_colab_link": true
    },
    "kernelspec": {
      "name": "python3",
      "display_name": "Python 3"
    },
    "language_info": {
      "name": "python"
    }
  },
  "cells": [
    {
      "cell_type": "markdown",
      "metadata": {
        "id": "view-in-github",
        "colab_type": "text"
      },
      "source": [
        "<a href=\"https://colab.research.google.com/github/Shakir75/Practice/blob/main/Design_Door_Mat.ipynb\" target=\"_parent\"><img src=\"https://colab.research.google.com/assets/colab-badge.svg\" alt=\"Open In Colab\"/></a>"
      ]
    },
    {
      "cell_type": "code",
      "execution_count": null,
      "metadata": {
        "id": "O_x-idjNptRM"
      },
      "outputs": [],
      "source": [
        "R, C = map(int, input().split(\" \"))\n",
        "print(R, C)\n",
        "\n",
        "for i in range(1, R, 2):\n",
        "    print((\".|.\" * i).center(C, \"-\"))\n",
        "print(\"welcome\".center(C, \"-\"))\n",
        "for i in range(R - 2, -1, -2):\n",
        "    print((\".|.\" * i).center(C, \"-\"))\n"
      ]
    }
  ]
}
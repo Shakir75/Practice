{
  "nbformat": 4,
  "nbformat_minor": 0,
  "metadata": {
    "colab": {
      "provenance": [],
      "authorship_tag": "ABX9TyOBoRxabi0wAyRK7TYfCIQB",
      "include_colab_link": true
    },
    "kernelspec": {
      "name": "python3",
      "display_name": "Python 3"
    },
    "language_info": {
      "name": "python"
    }
  },
  "cells": [
    {
      "cell_type": "markdown",
      "metadata": {
        "id": "view-in-github",
        "colab_type": "text"
      },
      "source": [
        "<a href=\"https://colab.research.google.com/github/Shakir75/Practice/blob/main/Nested_Lists.ipynb\" target=\"_parent\"><img src=\"https://colab.research.google.com/assets/colab-badge.svg\" alt=\"Open In Colab\"/></a>"
      ]
    },
    {
      "cell_type": "code",
      "execution_count": null,
      "metadata": {
        "id": "B6Z3iBefZPYm"
      },
      "outputs": [],
      "source": [
        "n = int (input())\n",
        "res = []\n",
        "grade = []\n",
        "for i in range(n):\n",
        "    name = input()\n",
        "    mark = float(input())\n",
        "    res.append([name, mark])\n",
        "    grade.append(mark)\n",
        "grade = sorted(set(grade))\n",
        "m = grade[1]\n",
        "name = []\n",
        "for val in res:\n",
        "    if m == val[1]:\n",
        "        name.append(val[0])\n",
        "name.sort()\n",
        "for nm in name:\n",
        "    print(nm)"
      ]
    }
  ]
}